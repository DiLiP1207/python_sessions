{
 "cells": [
  {
   "cell_type": "code",
   "execution_count": 5,
   "id": "c64ca70b",
   "metadata": {},
   "outputs": [
    {
     "name": "stdout",
     "output_type": "stream",
     "text": [
      "1 2 3\n"
     ]
    }
   ],
   "source": [
    "print('1',end=' ')\n",
    "print('2',end=' ')\n",
    "print('3')\n"
   ]
  },
  {
   "cell_type": "code",
   "execution_count": 7,
   "id": "750c4b1e",
   "metadata": {},
   "outputs": [
    {
     "name": "stdout",
     "output_type": "stream",
     "text": [
      "the addition of 20 and 40 is 60\n"
     ]
    }
   ],
   "source": [
    "number1=20\n",
    "number2=40\n",
    "add=number1+number2\n",
    "print(\"the addition of 20 and 40 is\",add)"
   ]
  },
  {
   "cell_type": "code",
   "execution_count": 8,
   "id": "fb2c9adf",
   "metadata": {},
   "outputs": [
    {
     "name": "stdout",
     "output_type": "stream",
     "text": [
      "the addition of 20 and 40 is 60\n"
     ]
    }
   ],
   "source": [
    "number1=20\n",
    "number2=40\n",
    "add=number1+number2\n",
    "print(\"the addition of\",number1,\"and\",number2,\"is\",add)"
   ]
  },
  {
   "cell_type": "code",
   "execution_count": 12,
   "id": "07ac1e88",
   "metadata": {},
   "outputs": [
    {
     "name": "stdout",
     "output_type": "stream",
     "text": [
      "My name is python I came from Hyd and I am 10 years old\n"
     ]
    }
   ],
   "source": [
    "name='python'\n",
    "city='Hyd'\n",
    "age=10\n",
    "print(\"My name is\",name,\"I came from\",city,\"and I am\",age,\"years old\")\n"
   ]
  },
  {
   "cell_type": "code",
   "execution_count": 14,
   "id": "319d1206",
   "metadata": {},
   "outputs": [
    {
     "name": "stdout",
     "output_type": "stream",
     "text": [
      "the addition of 20 and 40 is 60\n"
     ]
    }
   ],
   "source": [
    "number1=20\n",
    "number2=40\n",
    "add=number1+number2\n",
    "print(\"the addition of {} and {} is {}\".format(number1,number2,add))\n"
   ]
  },
  {
   "cell_type": "code",
   "execution_count": 15,
   "id": "971b34a4",
   "metadata": {},
   "outputs": [
    {
     "name": "stdout",
     "output_type": "stream",
     "text": [
      "my name is python, i am from Hyd, and i am 10 years old\n"
     ]
    }
   ],
   "source": [
    "name='python'\n",
    "city='Hyd'\n",
    "age=10\n",
    "print(\"my name is {}, i am from {}, and i am {} years old\".format(name,city,age))"
   ]
  },
  {
   "cell_type": "code",
   "execution_count": null,
   "id": "d083a7cb",
   "metadata": {},
   "outputs": [],
   "source": []
  },
  {
   "cell_type": "code",
   "execution_count": 21,
   "id": "2de16c72",
   "metadata": {},
   "outputs": [
    {
     "name": "stdout",
     "output_type": "stream",
     "text": [
      "The addition of 20 and 30 is 50\n",
      "The sub of 20 and 30 is -10\n",
      "The mul of 20 and 30 is 600\n",
      "The div of 20 and 30 is 1\n"
     ]
    }
   ],
   "source": [
    "value1=20\n",
    "value2=30\n",
    "add=value1+value2\n",
    "sub=value1-value2\n",
    "mul=value1*value2\n",
    "div=round(value1/value2)\n",
    "print(\"The addition of {} and {} is {}\".format(value1,value2,add))\n",
    "print(\"The sub of {} and {} is {}\".format(value1,value2,sub))\n",
    "print(\"The mul of {} and {} is {}\".format(value1,value2,mul)) \n",
    "print(\"The div of {} and {} is {}\".format(value1,value2,div))"
   ]
  },
  {
   "cell_type": "code",
   "execution_count": 22,
   "id": "bc43cd6a",
   "metadata": {},
   "outputs": [
    {
     "name": "stdout",
     "output_type": "stream",
     "text": [
      "20\n"
     ]
    },
    {
     "data": {
      "text/plain": [
       "'20'"
      ]
     },
     "execution_count": 22,
     "metadata": {},
     "output_type": "execute_result"
    }
   ],
   "source": [
    "input()"
   ]
  },
  {
   "cell_type": "code",
   "execution_count": 24,
   "id": "d87d695d",
   "metadata": {},
   "outputs": [
    {
     "name": "stdout",
     "output_type": "stream",
     "text": [
      "enter val1:20\n",
      "enter val2:30\n",
      "The addition of 20 and 30 is50\n"
     ]
    }
   ],
   "source": [
    "val1=int(input(\"enter val1:\"))\n",
    "val2=int(input(\"enter val2:\"))\n",
    "add=val1+val2\n",
    "print(\"The addition of {} and {} is{}\".format(val1,val2,add))"
   ]
  },
  {
   "cell_type": "code",
   "execution_count": null,
   "id": "a4062edc",
   "metadata": {},
   "outputs": [],
   "source": [
    "salary=eval(input(\"enter the salary :\"))\n",
    "tax_percentage=eval(input(\"enter the tax percentage :\" ))\n",
    "tax_paid=salary*tax_percentage/100\n",
    "print(\"the tax paid is\",tax_paid)\n"
   ]
  },
  {
   "cell_type": "code",
   "execution_count": 28,
   "id": "1d8cc930",
   "metadata": {},
   "outputs": [
    {
     "name": "stdout",
     "output_type": "stream",
     "text": [
      "won\n"
     ]
    }
   ],
   "source": [
    "import random\n",
    "num=random.randint(1,200)\n",
    "if(num>=9,num<=99):\n",
    "   print('won')\n",
    "else:\n",
    "   print('lost')"
   ]
  },
  {
   "cell_type": "code",
   "execution_count": 11,
   "id": "63259ef9",
   "metadata": {},
   "outputs": [
    {
     "name": "stdout",
     "output_type": "stream",
     "text": [
      "enter the distance in kms : 5\n",
      "The charge is 40rs\n"
     ]
    }
   ],
   "source": [
    "distance=eval(input(\"enter the distance in kms : \"))\n",
    "if(distance>=10):\n",
    "    print(\"The charge is 100rs\")\n",
    "elif(distance>=7):\n",
    "    print(\"The charge is 70rs\")\n",
    "elif(distance>=4):\n",
    "    print(\"The charge is 40rs\")\n",
    "else:\n",
    "    print(\"The charge is 30rs\")\n",
    "    "
   ]
  },
  {
   "cell_type": "code",
   "execution_count": 15,
   "id": "9776c2af",
   "metadata": {},
   "outputs": [
    {
     "name": "stdout",
     "output_type": "stream",
     "text": [
      "Enter the salary : 600000\n",
      "Enter the tax percentage : 5\n",
      "The amount of tax paid is :  30000.0\n"
     ]
    }
   ],
   "source": [
    "salary=eval(input(\"Enter the salary : \"))\n",
    "if(salary>=1000000):\n",
    "    tax_percentage=eval(input(\"Enter the tax percentage : \"))\n",
    "    print(\"The amount of tax paid is : \",(salary*tax_percentage)/100)\n",
    "elif(salary>=700000):\n",
    "    11000000\n",
    "    tax_percentage=eval(input(\"Enter the tax percentage : \"))\n",
    "    print(\"The amount of tax paid is : \",(salary*tax_percentage)/100)\n",
    "elif(salary>=400000):\n",
    "    tax_percentage=eval(input(\"Enter the tax percentage : \"))\n",
    "    print(\"The amount of tax paid is : \",(salary*tax_percentage)/100)\n",
    "else:\n",
    "    print(\"NO tax is required\")\n",
    "    "
   ]
  },
  {
   "cell_type": "code",
   "execution_count": null,
   "id": "2f30a43a",
   "metadata": {},
   "outputs": [],
   "source": []
  },
  {
   "cell_type": "code",
   "execution_count": null,
   "id": "46d99220",
   "metadata": {},
   "outputs": [],
   "source": []
  },
  {
   "cell_type": "code",
   "execution_count": null,
   "id": "14d5bdd6",
   "metadata": {},
   "outputs": [],
   "source": [
    "\n",
    "\n",
    "\n"
   ]
  },
  {
   "cell_type": "code",
   "execution_count": null,
   "id": "6bfa4afa",
   "metadata": {},
   "outputs": [],
   "source": []
  },
  {
   "cell_type": "code",
   "execution_count": null,
   "id": "8769c6eb",
   "metadata": {},
   "outputs": [],
   "source": []
  },
  {
   "cell_type": "code",
   "execution_count": null,
   "id": "1a5d6786",
   "metadata": {},
   "outputs": [],
   "source": []
  }
 ],
 "metadata": {
  "kernelspec": {
   "display_name": "Python 3 (ipykernel)",
   "language": "python",
   "name": "python3"
  },
  "language_info": {
   "codemirror_mode": {
    "name": "ipython",
    "version": 3
   },
   "file_extension": ".py",
   "mimetype": "text/x-python",
   "name": "python",
   "nbconvert_exporter": "python",
   "pygments_lexer": "ipython3",
   "version": "3.11.5"
  }
 },
 "nbformat": 4,
 "nbformat_minor": 5
}
