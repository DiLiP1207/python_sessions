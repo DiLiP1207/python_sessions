{
 "cells": [
  {
   "cell_type": "code",
   "execution_count": 19,
   "id": "5c11ba9c",
   "metadata": {},
   "outputs": [
    {
     "name": "stdout",
     "output_type": "stream",
     "text": [
      "enter a number:12\n",
      "The square of the number is 144\n"
     ]
    }
   ],
   "source": [
    "# Ask the user to enter a number. Print out the square of the number\n",
    "\n",
    "try:\n",
    "    n=eval(input(\"enter a number:\"))\n",
    "    result=n*n\n",
    "    print('The square of the number is {}'.format(result))\n",
    "except Exception as e:\n",
    "    print('cannot square the number')\n",
    "    print(e)"
   ]
  },
  {
   "cell_type": "code",
   "execution_count": 2,
   "id": "3cd03bfe",
   "metadata": {},
   "outputs": [
    {
     "name": "stdout",
     "output_type": "stream",
     "text": [
      "enter the value of X:4\n",
      "4---8---12---16---20\n"
     ]
    }
   ],
   "source": [
    "# Ask the user to enter a number x. print out x, 2x, 3x, 4x, and 5x, each separated by three dashes(---)\n",
    "\n",
    "try:\n",
    "    X=eval(input(\"enter the value of X:\"))\n",
    "    print(X,2*X,3*X,4*X,5*X,sep='---')\n",
    "except Exception as e:\n",
    "    print(e)"
   ]
  },
  {
   "cell_type": "code",
   "execution_count": 3,
   "id": "facc44bc",
   "metadata": {},
   "outputs": [
    {
     "name": "stdout",
     "output_type": "stream",
     "text": [
      "enter weight in kilograms:27\n",
      "convert the weight in to pounds 59.400000000000006\n"
     ]
    }
   ],
   "source": [
    "# Write a program that asks the user for a weight in kilograms andconverts it to pounds. There are 2.2 pounds in a kilogram.\n",
    "try:\n",
    "    kilograms=eval(input('enter weight in kilograms:'))\n",
    "    pounds=kilograms*2.2\n",
    "    print('convert the weight in to pounds',pounds)\n",
    "except Exception as e:\n",
    "    print(e)\n"
   ]
  },
  {
   "cell_type": "code",
   "execution_count": 5,
   "id": "054b044a",
   "metadata": {},
   "outputs": [
    {
     "name": "stdout",
     "output_type": "stream",
     "text": [
      "enter the number a:20\n",
      "enter the number b:30\n",
      "enter the number c:10\n",
      "the total number 60 and average is 20.0\n"
     ]
    }
   ],
   "source": [
    "#Write a program that asks the user to enter three numbers (use three separate input statements).\n",
    "#Create variables called total and average that hold the sum and average of the three numbers and \n",
    "#print out the values of total and average.\n",
    "try:\n",
    "    a=eval(input('enter the number a:'))\n",
    "    b=eval(input('enter the number b:'))\n",
    "    c=eval(input('enter the number c:'))\n",
    "    total=a+b+c\n",
    "    average=(a+b+c)/3\n",
    "    print('the total number {} and average is {}'.format(total,average))\n",
    "except:\n",
    "    print('got an error')\n"
   ]
  },
  {
   "cell_type": "code",
   "execution_count": 7,
   "id": "b5b0b237",
   "metadata": {},
   "outputs": [
    {
     "name": "stdout",
     "output_type": "stream",
     "text": [
      "the price of meal:1300\n",
      "the percnt tip u want to leave:10\n",
      "the total bill with tip included is:  1430.0\n"
     ]
    }
   ],
   "source": [
    "# A lot of cell phones have tip calculators. Write one. Ask the user for the price of the meal and \n",
    "# the percent tip they want to leave. Then print both the tip amount and the total bill with the tip included.\n",
    "try:\n",
    "    X=eval(input('the price of meal:')) \n",
    "    tip=eval(input('the percnt tip u want to leave:')) \n",
    "    print ('the total bill with tip included is: ', X+((X*tip)/100))\n",
    "except Exception as e:\n",
    "    print(e)\n"
   ]
  },
  {
   "cell_type": "code",
   "execution_count": 8,
   "id": "2b09310c",
   "metadata": {},
   "outputs": [
    {
     "name": "stdout",
     "output_type": "stream",
     "text": [
      "Enter ramesh basic salary : 20000\n",
      "Gross salary is 32000.0\n"
     ]
    }
   ],
   "source": [
    "# Ramesh’s basic salary is input through the keyboard. His dearness allowance is 40% of\n",
    "# basic salary, and house rent allowance is 20% of basic salary. Write a program to\n",
    "# calculate his gross salary.\n",
    "\n",
    "try:\n",
    "    basic_salary=eval(input(\"Enter ramesh basic salary : \"))\n",
    "    DA=40/100*(basic_salary)\n",
    "    house_rent=20/100*(basic_salary)\n",
    "    Gross_salary=basic_salary+DA+house_rent\n",
    "    print(\"Gross salary is\",Gross_salary)\n",
    "except Exception as e :\n",
    "    print(e)"
   ]
  },
  {
   "cell_type": "code",
   "execution_count": 9,
   "id": "a4f7fa32",
   "metadata": {},
   "outputs": [
    {
     "name": "stdout",
     "output_type": "stream",
     "text": [
      "Distance between two cities:15\n",
      "metres: 15000\n",
      "feet :  49212.6\n",
      "cm :  1500000\n",
      "inches :  590551.18\n"
     ]
    }
   ],
   "source": [
    "# The distance between two cities (in km.) is input through the keyboard.Write a program\n",
    "# to convert and print this distance in meters, feet, inches and centimeters.\n",
    "\n",
    "try:\n",
    "    Distance=eval(input(\"Distance between two cities:\"))\n",
    "    metres=Distance*1000\n",
    "    cm=metres*100\n",
    "    inches=round(cm/2.54,2)\n",
    "    feet=round(inches/12,2)\n",
    "    print(\"metres:\",metres)\n",
    "    print(\"feet : \",feet)\n",
    "    print(\"cm : \",cm)\n",
    "    print(\"inches : \",inches)\n",
    "except Exception as e :\n",
    "    print(e)\n",
    "    "
   ]
  },
  {
   "cell_type": "code",
   "execution_count": 18,
   "id": "7f20c438",
   "metadata": {},
   "outputs": [
    {
     "name": "stdout",
     "output_type": "stream",
     "text": [
      "Enter the marks for sub1 66\n",
      "Enter the marks for sub2 55\n",
      "Enter the marks for sub3 77\n",
      "Enter the marks for sub4 89\n",
      "Enter the marks for sub5 67\n",
      "Aggregate marks :  354\n",
      "Percentage :  70.8\n"
     ]
    }
   ],
   "source": [
    "#If the marks obtained by a student in five different subjects are input through the\n",
    "#keyboard, find out the aggregate marks and percentage marks obtained by the student.\n",
    "#Assume that the maximum marks that can be obtained by a student in each subject is\n",
    "100.\n",
    "try:\n",
    "    sub1=eval(input(\"Enter the marks for sub1 \"))\n",
    "    sub2=eval(input(\"Enter the marks for sub2 \"))\n",
    "    sub3=eval(input(\"Enter the marks for sub3 \"))\n",
    "    sub4=eval(input(\"Enter the marks for sub4 \"))\n",
    "    sub5=eval(input(\"Enter the marks for sub5 \"))\n",
    "    Aggregate=sub1+sub2+sub3+sub4+sub5\n",
    "    percentage=Aggregate/5\n",
    "    print(\"Aggregate marks : \",Aggregate)\n",
    "    print(\"Percentage : \",percentage)\n",
    "except Exception as e:\n",
    "    print('failed')\n",
    "    print(e)"
   ]
  },
  {
   "cell_type": "code",
   "execution_count": 20,
   "id": "49886485",
   "metadata": {},
   "outputs": [
    {
     "name": "stdout",
     "output_type": "stream",
     "text": [
      "Tempetaure in fahrenheit degrees :34\n",
      "centigrade degrees 1.11\n"
     ]
    }
   ],
   "source": [
    "#Temperature of a city in Fahrenheit degrees is input through the keyboard. Write a\n",
    "#program to convert this temperature into Centigrade degrees.\n",
    "\n",
    "try: \n",
    "    temp=eval(input(\"Tempetaure in fahrenheit degrees :\"))\n",
    "    centigrade=round(5/9*(temp-32),2)\n",
    "    print(\"centigrade degrees\",centigrade)\n",
    "except Exception as e :\n",
    "    print(e)\n"
   ]
  },
  {
   "cell_type": "code",
   "execution_count": 21,
   "id": "824ff6c4",
   "metadata": {},
   "outputs": [
    {
     "name": "stdout",
     "output_type": "stream",
     "text": [
      "Enter the length of rectangle : 12\n",
      "Enter the breadth of rectangle : 8\n",
      "Enter the radius of circle : 6\n",
      "The area of rectangle is : 96\n",
      "The perimeter of rectangle is :  40\n",
      "The area of circle is :  113.04\n",
      "The circumference of circle is :  37.68\n"
     ]
    }
   ],
   "source": [
    "# The length & breadth of a rectangle and radius of a circle are input through the\n",
    "#keyboard. Write a program to calculate the area & perimeter of the rectangle, and the\n",
    "#area & circumference of the circle.\n",
    "\n",
    "try:\n",
    "    Len_rectangle=eval(input(\"Enter the length of rectangle : \"))\n",
    "    breadth_rectangle=eval(input(\"Enter the breadth of rectangle : \"))\n",
    "    radius_circle=eval(input(\"Enter the radius of circle : \"))\n",
    "    area_rectangle=Len_rectangle*breadth_rectangle\n",
    "    perimeter_rectangle=2*(Len_rectangle+breadth_rectangle)\n",
    "    area_circle=3.14*(radius_circle*radius_circle)\n",
    "    circumference_circle=round(2*3.14*radius_circle,2)\n",
    "    print(\"The area of rectangle is :\",area_rectangle)\n",
    "    print(\"The perimeter of rectangle is : \",perimeter_rectangle)\n",
    "    print(\"The area of circle is : \",area_circle)\n",
    "    print(\"The circumference of circle is : \",circumference_circle)\n",
    "except Exception as e :\n",
    "    print(e)\n",
    "    "
   ]
  },
  {
   "cell_type": "code",
   "execution_count": 28,
   "id": "af6139b7",
   "metadata": {},
   "outputs": [
    {
     "name": "stdout",
     "output_type": "stream",
     "text": [
      "Enter the value for C :34\n",
      "Enter the value for D :22\n",
      "Before:  34\n",
      "Before:  22\n",
      "After interchanging C value: 22\n",
      "After interchanging D value: 34\n"
     ]
    }
   ],
   "source": [
    "#Two numbers are input through the keyboard into two locations C and D. Write a\n",
    "#program to interchange the contents of C and D.\n",
    "\n",
    "try:\n",
    "    C=eval(input(\"Enter the value for C :\"))\n",
    "    D=eval(input(\"Enter the value for D :\"))\n",
    "    print(\"Before: \",C)\n",
    "    print(\"Before: \",D)\n",
    "    A=C\n",
    "    C=D\n",
    "    D=A\n",
    "    print(\"After interchanging C value:\",C)\n",
    "    print(\"After interchanging D value:\",D)\n",
    "except Exception as e:\n",
    "    print(e)"
   ]
  },
  {
   "cell_type": "code",
   "execution_count": 27,
   "id": "232eed7e",
   "metadata": {},
   "outputs": [
    {
     "name": "stdout",
     "output_type": "stream",
     "text": [
      "Enter the five digit number : 12334\n",
      "Reverse Five Digits 43321\n"
     ]
    }
   ],
   "source": [
    "#If a five-digit number is input through the keyboard, write a program to reverse the number.\n",
    "\n",
    "\n",
    "try:\n",
    "    num=eval(input(\"Enter the five digit number : \"))\n",
    "    rev=0\n",
    "    a=num%10\n",
    "    num=num//10\n",
    "    rev=rev+a*10000\n",
    "\n",
    "    a=num%10\n",
    "    num=num//10\n",
    "    rev=rev+a*1000\n",
    "\n",
    "    a=num%10\n",
    "    num=num//10\n",
    "    rev=rev+a*100\n",
    "\n",
    "    a=num%10\n",
    "    num=num//10\n",
    "    rev=rev+a*10\n",
    "\n",
    "    a=num%10\n",
    "    rev=rev+a\n",
    "\n",
    "    print(\"Reverse Five Digits\",rev)\n",
    "except Exception as e:\n",
    "    print(e)\n"
   ]
  },
  {
   "cell_type": "code",
   "execution_count": 26,
   "id": "166bd934",
   "metadata": {},
   "outputs": [
    {
     "name": "stdout",
     "output_type": "stream",
     "text": [
      "Enter the four digits number: 9123\n",
      "sum of first and last digits is 12\n"
     ]
    }
   ],
   "source": [
    "#If a four-digit number is input through the keyboard, write a program to obtain the sum of\n",
    "#the first and last digit of this number.\n",
    "\n",
    "try:\n",
    "    n=eval(input(\"Enter the four digits number: \"))\n",
    "    sum=0\n",
    "    a=n//1000\n",
    "    sum=sum+a\n",
    "    a=n%10\n",
    "    sum=sum+a\n",
    "    print(\"sum of first and last digits is\",sum)\n",
    "except Exception as e:\n",
    "    print(e)"
   ]
  },
  {
   "cell_type": "code",
   "execution_count": 23,
   "id": "b4c5d66a",
   "metadata": {},
   "outputs": [
    {
     "name": "stdout",
     "output_type": "stream",
     "text": [
      "total population : 80000\n",
      "total mens : 41600.0\n",
      "total womens : 38400.0\n",
      "total literacy : 38400.0\n",
      "total literacy mens : 14560.0\n",
      "total literacy womens : 23840.0\n",
      "total not literacy mens : 27040.0\n",
      "total not literacy womens: 14560.0\n"
     ]
    }
   ],
   "source": [
    "#In a town, the percentage of men is 52. The percentage of total literacy is 48. If total\n",
    "#percentage of literate men is 35 of the total population, write a program to find the total\n",
    "#number of illiterate men and women if the population of the town is 80,000.\n",
    "\n",
    "try:\n",
    "    pop=80000\n",
    "    pop_men=(52*pop)/100\n",
    "    pop_women=pop-pop_men\n",
    "    pop_lit=(48*pop)/100\n",
    "    lit_men=(35*pop_men)/100\n",
    "    lit_women=pop_lit-lit_men\n",
    "    unlit_men=pop_men-lit_men\n",
    "    unlit_women=pop_women-lit_women\n",
    "    print(\"total population :\",pop)\n",
    "    print(\"total mens :\",pop_men)\n",
    "    print(\"total womens :\",pop_women)\n",
    "    print(\"total literacy :\",pop_lit)\n",
    "    print(\"total literacy mens :\",lit_men)\n",
    "    print(\"total literacy womens :\",lit_women)\n",
    "    print(\"total not literacy mens :\",unlit_men)\n",
    "    print(\"total not literacy womens:\",unlit_women)\n",
    "except Exception as e:\n",
    "    print(e)"
   ]
  },
  {
   "cell_type": "code",
   "execution_count": 25,
   "id": "e1dbc01c",
   "metadata": {},
   "outputs": [
    {
     "name": "stdout",
     "output_type": "stream",
     "text": [
      "Enter the amount:10233\n",
      "no of hundred notes : 102\n",
      "no of fifty notes : 0\n",
      "no of ten notes : 3\n"
     ]
    }
   ],
   "source": [
    "#A cashier has currency notes of denominations 10, 50 and 100. If the amount to be\n",
    "#withdrawn is input through the keyboard in hundreds, find the total number of currency\n",
    "#notes of each denomination the cashier will have to give to the withdrawer.\n",
    "\n",
    "try:\n",
    "    amount=eval(input(\"Enter the amount:\"))\n",
    "    hundred=amount//100\n",
    "    amount=amount%100\n",
    "    fifty=amount//50\n",
    "    amount=amount%50\n",
    "    ten=amount//10\n",
    "    print(\"no of hundred notes :\",hundred)\n",
    "    print(\"no of fifty notes :\",fifty)\n",
    "    print(\"no of ten notes :\",ten)\n",
    "except Exception as e:\n",
    "    print(e)"
   ]
  },
  {
   "cell_type": "code",
   "execution_count": null,
   "id": "c0f8552b",
   "metadata": {},
   "outputs": [],
   "source": []
  }
 ],
 "metadata": {
  "kernelspec": {
   "display_name": "Python 3 (ipykernel)",
   "language": "python",
   "name": "python3"
  },
  "language_info": {
   "codemirror_mode": {
    "name": "ipython",
    "version": 3
   },
   "file_extension": ".py",
   "mimetype": "text/x-python",
   "name": "python",
   "nbconvert_exporter": "python",
   "pygments_lexer": "ipython3",
   "version": "3.11.5"
  }
 },
 "nbformat": 4,
 "nbformat_minor": 5
}
