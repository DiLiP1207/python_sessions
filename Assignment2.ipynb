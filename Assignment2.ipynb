{
 "cells": [
  {
   "cell_type": "code",
   "execution_count": 9,
   "id": "926348cc",
   "metadata": {},
   "outputs": [
    {
     "name": "stdout",
     "output_type": "stream",
     "text": [
      "Enter ramesh basic salary : 10000\n",
      "Gross salary is 16000.0\n"
     ]
    }
   ],
   "source": [
    "# Ramesh’s basic salary is input through the keyboard. His dearness allowance is 40% of\n",
    "# basic salary, and house rent allowance is 20% of basic salary. Write a program to\n",
    "# calculate his gross salary.\n",
    "\n",
    "try:\n",
    "    basic_salary=eval(input(\"Enter ramesh basic salary : \"))\n",
    "    DA=40/100*(basic_salary)\n",
    "    house_rent=20/100*(basic_salary)\n",
    "    Gross_salary=basic_salary+DA+house_rent\n",
    "    print(\"Gross salary is\",Gross_salary)\n",
    "except Exception as e :\n",
    "    print(e)"
   ]
  },
  {
   "cell_type": "code",
   "execution_count": 10,
   "id": "1442456d",
   "metadata": {},
   "outputs": [
    {
     "name": "stdout",
     "output_type": "stream",
     "text": [
      "Distance between two cities:10\n",
      "metres: 10000\n",
      "feet :  32808.4\n",
      "cm :  1000000\n",
      "inches :  393700.79\n"
     ]
    }
   ],
   "source": [
    "# The distance between two cities (in km.) is input through the keyboard.Write a program\n",
    "# to convert and print this distance in meters, feet, inches and centimeters.\n",
    "\n",
    "try:\n",
    "    Distance=eval(input(\"Distance between two cities:\"))\n",
    "    metres=Distance*1000\n",
    "    cm=metres*100\n",
    "    inches=round(cm/2.54,2)\n",
    "    feet=round(inches/12,2)\n",
    "    print(\"metres:\",metres)\n",
    "    print(\"feet : \",feet)\n",
    "    print(\"cm : \",cm)\n",
    "    print(\"inches : \",inches)\n",
    "except Exception as e :\n",
    "    print(e)\n",
    "    "
   ]
  },
  {
   "cell_type": "code",
   "execution_count": 11,
   "id": "83bab660",
   "metadata": {},
   "outputs": [
    {
     "name": "stdout",
     "output_type": "stream",
     "text": [
      "Enter the marks for sub1 90\n",
      "Enter the marks for sub2 91\n",
      "Enter the marks for sub3 92\n",
      "Enter the marks for sub4 93\n",
      "Enter the marks for sub5 94\n",
      "Aggregate marks :  460\n",
      "Percentage :  92.0\n"
     ]
    }
   ],
   "source": [
    "#If the marks obtained by a student in five different subjects are input through the\n",
    "#keyboard, find out the aggregate marks and percentage marks obtained by the student.\n",
    "#Assume that the maximum marks that can be obtained by a student in each subject is\n",
    "100.\n",
    "try:\n",
    "    sub1=eval(input(\"Enter the marks for sub1 \"))\n",
    "    sub2=eval(input(\"Enter the marks for sub2 \"))\n",
    "    sub3=eval(input(\"Enter the marks for sub3 \"))\n",
    "    sub4=eval(input(\"Enter the marks for sub4 \"))\n",
    "    sub5=eval(input(\"Enter the marks for sub5 \"))\n",
    "    Aggregate=sub1+sub2+sub3+sub4+sub5\n",
    "    percentage=Aggregate/5\n",
    "    print(\"Aggregate marks : \",Aggregate)\n",
    "    print(\"Percentage : \",percentage)\n",
    "except Exception as e :\n",
    "    print(e)"
   ]
  },
  {
   "cell_type": "code",
   "execution_count": 20,
   "id": "46490d5b",
   "metadata": {},
   "outputs": [
    {
     "name": "stdout",
     "output_type": "stream",
     "text": [
      "Tempetaure in fahrenheit degrees :40\n",
      "centigrade degrees 4.44\n"
     ]
    }
   ],
   "source": [
    "#Temperature of a city in Fahrenheit degrees is input through the keyboard. Write a\n",
    "#program to convert this temperature into Centigrade degrees.\n",
    "\n",
    "try: \n",
    "    temp=eval(input(\"Tempetaure in fahrenheit degrees :\"))\n",
    "    centigrade=round(5/9*(temp-32),2)\n",
    "    print(\"centigrade degrees\",centigrade)\n",
    "except Exception as e :\n",
    "    print(e)\n"
   ]
  },
  {
   "cell_type": "code",
   "execution_count": 21,
   "id": "3be9d578",
   "metadata": {},
   "outputs": [
    {
     "name": "stdout",
     "output_type": "stream",
     "text": [
      "Enter the length of rectangle : 20\n",
      "Enter the breadth of rectangle : 10\n",
      "Enter the radius of circle : 5\n",
      "The area of rectangle is : 200\n",
      "The perimeter of rectangle is :  60\n",
      "The area of circle is :  78.5\n",
      "The circumference of circle is :  31.4\n"
     ]
    }
   ],
   "source": [
    "# The length & breadth of a rectangle and radius of a circle are input through the\n",
    "#keyboard. Write a program to calculate the area & perimeter of the rectangle, and the\n",
    "#area & circumference of the circle.\n",
    "\n",
    "try:\n",
    "    Len_rectangle=eval(input(\"Enter the length of rectangle : \"))\n",
    "    breadth_rectangle=eval(input(\"Enter the breadth of rectangle : \"))\n",
    "    radius_circle=eval(input(\"Enter the radius of circle : \"))\n",
    "    area_rectangle=Len_rectangle*breadth_rectangle\n",
    "    perimeter_rectangle=2*(Len_rectangle+breadth_rectangle)\n",
    "    area_circle=3.14*(radius_circle*radius_circle)\n",
    "    circumference_circle=round(2*3.14*radius_circle,2)\n",
    "    print(\"The area of rectangle is :\",area_rectangle)\n",
    "    print(\"The perimeter of rectangle is : \",perimeter_rectangle)\n",
    "    print(\"The area of circle is : \",area_circle)\n",
    "    print(\"The circumference of circle is : \",circumference_circle)\n",
    "except Exception as e :\n",
    "    print(e)\n"
   ]
  },
  {
   "cell_type": "code",
   "execution_count": 2,
   "id": "2f762fec",
   "metadata": {},
   "outputs": [
    {
     "name": "stdout",
     "output_type": "stream",
     "text": [
      "Enter the value for C :3\n",
      "Enter the value for D :6\n",
      "Before:  3\n",
      "Before:  6\n",
      "After interchanging C value: 6\n",
      "After interchanging D value: 3\n"
     ]
    }
   ],
   "source": [
    "#Two numbers are input through the keyboard into two locations C and D. Write a\n",
    "#program to interchange the contents of C and D.\n",
    "\n",
    "try:\n",
    "    C=eval(input(\"Enter the value for C :\"))\n",
    "    D=eval(input(\"Enter the value for D :\"))\n",
    "    print(\"Before: \",C)\n",
    "    print(\"Before: \",D)\n",
    "    A=C\n",
    "    C=D\n",
    "    D=A\n",
    "    print(\"After interchanging C value:\",C)\n",
    "    print(\"After interchanging D value:\",D)\n",
    "except Exception as e:\n",
    "    print(e)\n",
    "\n",
    "\n",
    "\n"
   ]
  },
  {
   "cell_type": "code",
   "execution_count": 4,
   "id": "efb63ac2",
   "metadata": {},
   "outputs": [
    {
     "name": "stdout",
     "output_type": "stream",
     "text": [
      "Enter the five digit number : 12345\n",
      "Reverse Five Digits 54321\n"
     ]
    }
   ],
   "source": [
    "#If a five-digit number is input through the keyboard, write a program to reverse the number.\n",
    "\n",
    "\n",
    "try:\n",
    "    num=eval(input(\"Enter the five digit number : \"))\n",
    "    rev=0\n",
    "    a=num%10\n",
    "    num=num//10\n",
    "    rev=rev+a*10000\n",
    "\n",
    "    a=num%10\n",
    "    num=num//10\n",
    "    rev=rev+a*1000\n",
    "\n",
    "    a=num%10\n",
    "    num=num//10\n",
    "    rev=rev+a*100\n",
    "\n",
    "    a=num%10\n",
    "    num=num//10\n",
    "    rev=rev+a*10\n",
    "\n",
    "    a=num%10\n",
    "    rev=rev+a\n",
    "\n",
    "    print(\"Reverse Five Digits\",rev)\n",
    "except Exception as e:\n",
    "    print(e)\n",
    "\n"
   ]
  },
  {
   "cell_type": "code",
   "execution_count": 5,
   "id": "0a3bcdfa",
   "metadata": {},
   "outputs": [
    {
     "name": "stdout",
     "output_type": "stream",
     "text": [
      "Enter the four digits number: 4567\n",
      "sum of first and last digits is 11\n"
     ]
    }
   ],
   "source": [
    "#If a four-digit number is input through the keyboard, write a program to obtain the sum of\n",
    "#the first and last digit of this number.\n",
    "\n",
    "try:\n",
    "    n=eval(input(\"Enter the four digits number: \"))\n",
    "    sum=0\n",
    "    a=n//1000\n",
    "    sum=sum+a\n",
    "    a=n%10\n",
    "    sum=sum+a\n",
    "    print(\"sum of first and last digits is\",sum)\n",
    "except Exception as e:\n",
    "    print(e)"
   ]
  },
  {
   "cell_type": "code",
   "execution_count": 6,
   "id": "403c635a",
   "metadata": {},
   "outputs": [
    {
     "name": "stdout",
     "output_type": "stream",
     "text": [
      "total population : 80000\n",
      "total mens : 41600.0\n",
      "total womens : 38400.0\n",
      "total literacy : 38400.0\n",
      "total literacy mens : 14560.0\n",
      "total literacy womens : 23840.0\n",
      "total not literacy mens : 27040.0\n",
      "total not literacy womens: 14560.0\n"
     ]
    }
   ],
   "source": [
    "#In a town, the percentage of men is 52. The percentage of total literacy is 48. If total\n",
    "#percentage of literate men is 35 of the total population, write a program to find the total\n",
    "#number of illiterate men and women if the population of the town is 80,000.\n",
    "\n",
    "try:\n",
    "    popul=80000\n",
    "    popul_men=(52*popul)/100\n",
    "    popul_women=popul-popul_men\n",
    "    popul_liter=(48*popul)/100\n",
    "    liter_men=(35*popul_men)/100\n",
    "    liter_women=popul_liter-liter_men\n",
    "    unliter_men=popul_men-liter_men\n",
    "    unliter_women=popul_women-liter_women\n",
    "    print(\"total population :\",popul)\n",
    "    print(\"total mens :\",popul_men)\n",
    "    print(\"total womens :\",popul_women)\n",
    "    print(\"total literacy :\",popul_liter)\n",
    "    print(\"total literacy mens :\",liter_men)\n",
    "    print(\"total literacy womens :\",liter_women)\n",
    "    print(\"total not literacy mens :\",unliter_men)\n",
    "    print(\"total not literacy womens:\",unliter_women)\n",
    "except Exception as e:\n",
    "    print(e)"
   ]
  },
  {
   "cell_type": "code",
   "execution_count": 7,
   "id": "7dc5ea37",
   "metadata": {},
   "outputs": [
    {
     "name": "stdout",
     "output_type": "stream",
     "text": [
      "Enter the amount:32880\n",
      "no of hundred notes : 328\n",
      "no of fifty notes : 1\n",
      "no of ten notes : 3\n"
     ]
    }
   ],
   "source": [
    "#A cashier has currency notes of denominations 10, 50 and 100. If the amount to be\n",
    "#withdrawn is input through the keyboard in hundreds, find the total number of currency\n",
    "#notes of each denomination the cashier will have to give to the withdrawer.\n",
    "\n",
    "try:\n",
    "    amount=eval(input(\"Enter the amount:\"))\n",
    "    hundred=amount//100\n",
    "    amount=amount%100\n",
    "    fifty=amount//50\n",
    "    amount=amount%50\n",
    "    ten=amount//10\n",
    "    print(\"no of hundred notes :\",hundred)\n",
    "    print(\"no of fifty notes :\",fifty)\n",
    "    print(\"no of ten notes :\",ten)\n",
    "except Exception as e:\n",
    "    print(e)"
   ]
  },
  {
   "cell_type": "code",
   "execution_count": null,
   "id": "eebaf2d5",
   "metadata": {},
   "outputs": [],
   "source": []
  },
  {
   "cell_type": "code",
   "execution_count": null,
   "id": "001ff927",
   "metadata": {},
   "outputs": [],
   "source": []
  },
  {
   "cell_type": "code",
   "execution_count": null,
   "id": "cfe9b2f8",
   "metadata": {},
   "outputs": [],
   "source": []
  },
  {
   "cell_type": "code",
   "execution_count": null,
   "id": "4dd8dc02",
   "metadata": {},
   "outputs": [],
   "source": []
  }
 ],
 "metadata": {
  "kernelspec": {
   "display_name": "Python 3 (ipykernel)",
   "language": "python",
   "name": "python3"
  },
  "language_info": {
   "codemirror_mode": {
    "name": "ipython",
    "version": 3
   },
   "file_extension": ".py",
   "mimetype": "text/x-python",
   "name": "python",
   "nbconvert_exporter": "python",
   "pygments_lexer": "ipython3",
   "version": "3.11.5"
  }
 },
 "nbformat": 4,
 "nbformat_minor": 5
}
