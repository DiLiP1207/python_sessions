{
 "cells": [
  {
   "cell_type": "code",
   "execution_count": 1,
   "id": "84d12f6e",
   "metadata": {},
   "outputs": [
    {
     "name": "stdout",
     "output_type": "stream",
     "text": [
      "Enter the string: winindia\n",
      "Number of characters in the string:  8\n",
      "winindia winindia winindia winindia winindia winindia winindia winindia winindia winindia \n",
      "w\n",
      "win\n",
      "dia\n",
      "aidniniw\n",
      "i\n",
      "inindi\n",
      "WININDIA\n",
      "winindie\n"
     ]
    }
   ],
   "source": [
    "#Write a program that asks the user to enter a string. The program should then print the following:\n",
    "#(a) The total number of characters in the string\n",
    "#(b) The string repeated 10 times\n",
    "#(c) The first character of the string (remember that string indices start at 0) (d) The first three\n",
    "#characters of the string\n",
    "#(e) The last three characters of the string\n",
    "#(f) The string backwards\n",
    "#(g) The seventh character of the string if the string is long enough and a message otherwise\n",
    "#(h) The string with its first and last characters removed\n",
    "#(i) The string in all caps\n",
    "#(j) The string with every a replaced with an e\n",
    "\n",
    "\n",
    "\n",
    "\n",
    "str1=input(\"Enter the string: \")\n",
    "print(\"Number of characters in the string: \",len(str1))\n",
    "print(10*(str1+' '))\n",
    "print(str1[0])\n",
    "print(str1[:3])\n",
    "print(str1[-3:])\n",
    "print(str1[::-1])\n",
    "if len(str1)>6:\n",
    " print(str1[6])\n",
    "else:\n",
    " print(\"Length of the string is not enough\")\n",
    "print(str1[1:-1])\n",
    "print(str1.upper())\n",
    "print(str1.replace('a','e'))\n"
   ]
  },
  {
   "cell_type": "code",
   "execution_count": 5,
   "id": "bab4a46f",
   "metadata": {},
   "outputs": [
    {
     "name": "stdout",
     "output_type": "stream",
     "text": [
      "Enter the string: ind wi aus rsa\n",
      "Number of words: 4\n"
     ]
    }
   ],
   "source": [
    "# A simple way to estimate the number of words in a string is to count the number of spaces in the\n",
    "#string. Write a program that asks the user for a string and returns an estimate of how many words\n",
    "#are in the string.\n",
    "#Tip: You need to count the number of words using spaces\n",
    "\n",
    "\n",
    "str1=input(\"Enter the string: \")\n",
    "count=0\n",
    "for i in str1:\n",
    " if i==' ':\n",
    "     count=count+1\n",
    " if str1[-1]==' ':\n",
    "     count=count-1\n",
    "print(\"Number of words:\",count+1)\n"
   ]
  },
  {
   "cell_type": "code",
   "execution_count": 7,
   "id": "dece6301",
   "metadata": {},
   "outputs": [
    {
     "name": "stdout",
     "output_type": "stream",
     "text": [
      "Enter the string: Westindies\n",
      "number of vowels in the string is 4\n"
     ]
    }
   ],
   "source": [
    "#Write a program that asks the user to enter a word and prints out whether that word contains any vowels.\n",
    "\n",
    "\n",
    "user=input(\"Enter the string: \")\n",
    "count=0\n",
    "for i in user:\n",
    "    if i in 'aeiou':\n",
    "        count+=1\n",
    "print('number of vowels in the string is {}'.format(count))"
   ]
  },
  {
   "cell_type": "code",
   "execution_count": 8,
   "id": "3c008252",
   "metadata": {},
   "outputs": [
    {
     "name": "stdout",
     "output_type": "stream",
     "text": [
      "Enter the string: Westindies\n",
      "2\n"
     ]
    }
   ],
   "source": [
    "#Improvise above code by providing unique vowels\n",
    "\n",
    "user=input(\"Enter the string: \")\n",
    "str1=''\n",
    "count=0\n",
    "for i in user:\n",
    "    if i in 'aeiou':\n",
    "        if i in str1:\n",
    "            print(end='')\n",
    "        else:\n",
    "            str1=str1+i\n",
    "print(len(str1))"
   ]
  },
  {
   "cell_type": "code",
   "execution_count": 9,
   "id": "ca9842a0",
   "metadata": {},
   "outputs": [
    {
     "name": "stdout",
     "output_type": "stream",
     "text": [
      "Enter the string: westindies\n"
     ]
    },
    {
     "data": {
      "text/plain": [
       "'w*stindies!!!'"
      ]
     },
     "execution_count": 9,
     "metadata": {},
     "output_type": "execute_result"
    }
   ],
   "source": [
    "#Write a program that asks the user to enter a string. The program should create a new string\n",
    "#called new_string from the user’s string such that the second character is changed to an asterisk and\n",
    "#three exclamation points are attached to the end of the string. Finally, print new_string.\n",
    "\n",
    "str1=input(\"Enter the string: \")\n",
    "str2=str1[0]+'*'+str1[2:]+'!!!'\n",
    "str2"
   ]
  },
  {
   "cell_type": "code",
   "execution_count": 11,
   "id": "e0b188b5",
   "metadata": {},
   "outputs": [
    {
     "name": "stdout",
     "output_type": "stream",
     "text": [
      "Enter the string: madam\n",
      "It is a palindrome\n"
     ]
    }
   ],
   "source": [
    "#Write a program that asks the user to enter a word and determines whether the word is a\n",
    "#palindrome or not. A palindrome is a word that reads the same backwards as forwards\n",
    "\n",
    "str1=input(\"Enter the string: \")\n",
    "if str1.casefold()==str1[::-1].casefold():\n",
    " print(\"It is a palindrome\")\n",
    "else:\n",
    " print(\"It is not a palindrome\")"
   ]
  },
  {
   "cell_type": "code",
   "execution_count": null,
   "id": "703206a7",
   "metadata": {},
   "outputs": [
    {
     "name": "stdout",
     "output_type": "stream",
     "text": [
      "How many addresses you want to give: 1\n"
     ]
    }
   ],
   "source": [
    "#At a certain school, student email addresses end with @student.college.edu, while professor\n",
    "#email addresses end with @prof.college.edu. Write a program that first asks the user how many\n",
    "#email addresses they will be entering, and then has the user enter those addresses. After all the\n",
    "#email addresses are entered, the program should print out a message indicating either that all the\n",
    "#addresses are student addresses or that there were some professor addresses entered.\n",
    "\n",
    "\n",
    "\n",
    "num=eval(input(\"How many addresses you want to give: \"))\n",
    "lst=[]\n",
    "student=0\n",
    "pro=0\n",
    "for nu in range(num):\n",
    " mail=input('Enter the email addresses \\n For student:@student.college.edu \\n For professor:@prof.college.edu ')\n",
    " print('\\n')\n",
    " lst.append(mail)\n",
    " if '@student.college.edu' in lst[nu]:\n",
    "     student+=1\n",
    " elif '@prof.college.edu' in lst[nu]:\n",
    "     pro+=1\n",
    "print('Number of students:',student,'\\nNumber of professors:',pro)"
   ]
  },
  {
   "cell_type": "code",
   "execution_count": null,
   "id": "b0b2c61d",
   "metadata": {},
   "outputs": [],
   "source": []
  },
  {
   "cell_type": "code",
   "execution_count": null,
   "id": "ef0d2717",
   "metadata": {},
   "outputs": [],
   "source": []
  }
 ],
 "metadata": {
  "kernelspec": {
   "display_name": "Python 3 (ipykernel)",
   "language": "python",
   "name": "python3"
  },
  "language_info": {
   "codemirror_mode": {
    "name": "ipython",
    "version": 3
   },
   "file_extension": ".py",
   "mimetype": "text/x-python",
   "name": "python",
   "nbconvert_exporter": "python",
   "pygments_lexer": "ipython3",
   "version": "3.11.5"
  }
 },
 "nbformat": 4,
 "nbformat_minor": 5
}
