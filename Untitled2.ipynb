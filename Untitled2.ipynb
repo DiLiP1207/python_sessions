{
 "cells": [
  {
   "cell_type": "code",
   "execution_count": 18,
   "id": "b90165f6",
   "metadata": {},
   "outputs": [],
   "source": [
    "s1='virat.kohli@bnglr.com,rohit.sharma@mumbai.com,kl.rahul@lucknow.com'"
   ]
  },
  {
   "cell_type": "code",
   "execution_count": 23,
   "id": "b66e4c8e",
   "metadata": {},
   "outputs": [
    {
     "data": {
      "text/plain": [
       "(['virat', 'rohit', 'kl'],\n",
       " ['kohli', 'sharma', 'rahul'],\n",
       " ['bnglr', 'mumbai', 'lucknow'])"
      ]
     },
     "execution_count": 23,
     "metadata": {},
     "output_type": "execute_result"
    }
   ],
   "source": [
    "str1='virat.kohli@bnglr.com'\n",
    "\n",
    "str1.find('.')\n",
    "\n",
    "f_name=[str1[:str1.find('.')] for str1 in s1.split(',')]\n",
    "\n",
    "s_name=[str1[str1.find('.')+1:str1.find('@')] for str1 in s1.split(',')]\n",
    "\n",
    "c_name=[str1[str1.find('@')+1:str1.find('.',str1.find('.')+1)] for str1 in s1.split(',')]\n",
    "\n",
    "f_name,s_name,c_name\n"
   ]
  },
  {
   "cell_type": "code",
   "execution_count": null,
   "id": "5d9bffa5",
   "metadata": {},
   "outputs": [],
   "source": []
  },
  {
   "cell_type": "code",
   "execution_count": null,
   "id": "e14b23c5",
   "metadata": {},
   "outputs": [],
   "source": []
  },
  {
   "cell_type": "code",
   "execution_count": null,
   "id": "ed4ff300",
   "metadata": {},
   "outputs": [],
   "source": []
  },
  {
   "cell_type": "code",
   "execution_count": null,
   "id": "42ada40f",
   "metadata": {},
   "outputs": [],
   "source": []
  },
  {
   "cell_type": "code",
   "execution_count": null,
   "id": "0978c5d7",
   "metadata": {},
   "outputs": [],
   "source": []
  }
 ],
 "metadata": {
  "kernelspec": {
   "display_name": "Python 3 (ipykernel)",
   "language": "python",
   "name": "python3"
  },
  "language_info": {
   "codemirror_mode": {
    "name": "ipython",
    "version": 3
   },
   "file_extension": ".py",
   "mimetype": "text/x-python",
   "name": "python",
   "nbconvert_exporter": "python",
   "pygments_lexer": "ipython3",
   "version": "3.11.5"
  }
 },
 "nbformat": 4,
 "nbformat_minor": 5
}
