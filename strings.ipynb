{
 "cells": [
  {
   "cell_type": "code",
   "execution_count": 5,
   "id": "1bfdab02",
   "metadata": {},
   "outputs": [],
   "source": [
    "str1='hello how are you '\n",
    "str2='hello how are you '\n",
    "str3=' hello how are you'"
   ]
  },
  {
   "cell_type": "code",
   "execution_count": 7,
   "id": "cc3be636",
   "metadata": {},
   "outputs": [
    {
     "name": "stdout",
     "output_type": "stream",
     "text": [
      "hello how are you\n",
      "hello how are you \n",
      "hello how are you\n"
     ]
    }
   ],
   "source": [
    "print(str1.strip())\n",
    "print(str1.lstrip())\n",
    "print(str1.rstrip())\n",
    "\n"
   ]
  },
  {
   "cell_type": "code",
   "execution_count": null,
   "id": "0f8ade11",
   "metadata": {},
   "outputs": [],
   "source": [
    "#WAP to extract"
   ]
  },
  {
   "cell_type": "code",
   "execution_count": 36,
   "id": "bc186df8",
   "metadata": {},
   "outputs": [],
   "source": [
    "str1='python.anaconda@nareshit.com'\n",
    "str2='omkar.nallagoni@cognizant.com'\n",
    "str3='virat.kohli@bcci.com'\n",
    "#Extract first name: python\n",
    "#Extract second name: anaconda\n",
    "#Extract company name: nareshit"
   ]
  },
  {
   "cell_type": "code",
   "execution_count": 26,
   "id": "f81d78c6",
   "metadata": {},
   "outputs": [
    {
     "data": {
      "text/plain": [
       "'python'"
      ]
     },
     "execution_count": 26,
     "metadata": {},
     "output_type": "execute_result"
    }
   ],
   "source": [
    "str1.find('.')\n",
    "str1[0:str1.find('.')]\n",
    "    \n",
    "    \n"
   ]
  },
  {
   "cell_type": "code",
   "execution_count": 43,
   "id": "f7b12b71",
   "metadata": {},
   "outputs": [
    {
     "data": {
      "text/plain": [
       "15"
      ]
     },
     "execution_count": 43,
     "metadata": {},
     "output_type": "execute_result"
    }
   ],
   "source": [
    "str1.find('@')"
   ]
  },
  {
   "cell_type": "code",
   "execution_count": 44,
   "id": "d745de4d",
   "metadata": {},
   "outputs": [
    {
     "data": {
      "text/plain": [
       "1"
      ]
     },
     "execution_count": 44,
     "metadata": {},
     "output_type": "execute_result"
    }
   ],
   "source": [
    "str1='3.1489'\n",
    "str1.find('.')-1"
   ]
  },
  {
   "cell_type": "code",
   "execution_count": 53,
   "id": "32045b21",
   "metadata": {},
   "outputs": [
    {
     "data": {
      "text/plain": [
       "'1489'"
      ]
     },
     "execution_count": 53,
     "metadata": {},
     "output_type": "execute_result"
    }
   ],
   "source": [
    "str1[str1.find('.')-1]\n",
    "\n",
    "str1[str1.find('.')+1:]\n"
   ]
  },
  {
   "cell_type": "markdown",
   "id": "d0507d70",
   "metadata": {},
   "source": [
    "**startswith-endswith**"
   ]
  },
  {
   "cell_type": "code",
   "execution_count": 65,
   "id": "b26f3990",
   "metadata": {},
   "outputs": [
    {
     "data": {
      "text/plain": [
       "True"
      ]
     },
     "execution_count": 65,
     "metadata": {},
     "output_type": "execute_result"
    }
   ],
   "source": [
    "str1='abc'\n",
    "str2='123'\n",
    "str3='abc123'\n",
    "str4='ABC'\n",
    "str3.islower()"
   ]
  },
  {
   "cell_type": "markdown",
   "id": "6aa3ba59",
   "metadata": {},
   "source": [
    "*SPLIT*"
   ]
  },
  {
   "cell_type": "code",
   "execution_count": 71,
   "id": "ef529198",
   "metadata": {},
   "outputs": [
    {
     "data": {
      "text/plain": [
       "['h', 'i how, ', 're you']"
      ]
     },
     "execution_count": 71,
     "metadata": {},
     "output_type": "execute_result"
    }
   ],
   "source": [
    "str1='hai how, are you'\n",
    "str1.split('a')"
   ]
  },
  {
   "cell_type": "code",
   "execution_count": 74,
   "id": "f1bb103d",
   "metadata": {},
   "outputs": [
    {
     "data": {
      "text/plain": [
       "['%%%%%%hello%%%%%%']"
      ]
     },
     "execution_count": 74,
     "metadata": {},
     "output_type": "execute_result"
    }
   ],
   "source": [
    "str1='%%%%%%hello%%%%%%'\n",
    "str1.split()"
   ]
  },
  {
   "cell_type": "code",
   "execution_count": null,
   "id": "b863ca67",
   "metadata": {},
   "outputs": [],
   "source": [
    "#WAP to identify the longest word and shortest word\n",
    "#WAP to identify the most repeated word in a given sentence\n",
    "#WAP out of 3 strings 'hyd','bnglr','mumbai' which is greater and which is lower"
   ]
  },
  {
   "cell_type": "code",
   "execution_count": null,
   "id": "5a938c07",
   "metadata": {},
   "outputs": [],
   "source": [
    "- how to read the strings\n",
    "-single/double/triple quotes\n",
    "-type\n",
    "-max\n",
    "-min\n",
    "-in\n",
    "len\n",
    "-addition of two strings[concatenation]\n",
    "-multiplication\n",
    "-subtraction\n",
    "-addition\n",
    "-"
   ]
  },
  {
   "cell_type": "code",
   "execution_count": null,
   "id": "1d999a6d",
   "metadata": {},
   "outputs": [],
   "source": []
  },
  {
   "cell_type": "code",
   "execution_count": null,
   "id": "d7ee1882",
   "metadata": {},
   "outputs": [],
   "source": []
  },
  {
   "cell_type": "code",
   "execution_count": null,
   "id": "7ccd4d6a",
   "metadata": {},
   "outputs": [],
   "source": []
  },
  {
   "cell_type": "code",
   "execution_count": null,
   "id": "9b1b868d",
   "metadata": {},
   "outputs": [],
   "source": []
  },
  {
   "cell_type": "code",
   "execution_count": null,
   "id": "29b935bb",
   "metadata": {},
   "outputs": [],
   "source": []
  },
  {
   "cell_type": "code",
   "execution_count": null,
   "id": "13f45ff2",
   "metadata": {},
   "outputs": [],
   "source": []
  },
  {
   "cell_type": "code",
   "execution_count": null,
   "id": "dadfdaf9",
   "metadata": {},
   "outputs": [],
   "source": []
  },
  {
   "cell_type": "code",
   "execution_count": null,
   "id": "45ab37af",
   "metadata": {},
   "outputs": [],
   "source": []
  },
  {
   "cell_type": "code",
   "execution_count": null,
   "id": "120e7407",
   "metadata": {},
   "outputs": [],
   "source": []
  },
  {
   "cell_type": "code",
   "execution_count": null,
   "id": "89d339c5",
   "metadata": {},
   "outputs": [],
   "source": []
  },
  {
   "cell_type": "code",
   "execution_count": null,
   "id": "f6616dae",
   "metadata": {},
   "outputs": [],
   "source": []
  }
 ],
 "metadata": {
  "kernelspec": {
   "display_name": "Python 3 (ipykernel)",
   "language": "python",
   "name": "python3"
  },
  "language_info": {
   "codemirror_mode": {
    "name": "ipython",
    "version": 3
   },
   "file_extension": ".py",
   "mimetype": "text/x-python",
   "name": "python",
   "nbconvert_exporter": "python",
   "pygments_lexer": "ipython3",
   "version": "3.11.5"
  }
 },
 "nbformat": 4,
 "nbformat_minor": 5
}
