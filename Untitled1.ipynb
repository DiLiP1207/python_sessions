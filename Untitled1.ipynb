{
 "cells": [
  {
   "cell_type": "code",
   "execution_count": 3,
   "id": "2739e31e",
   "metadata": {},
   "outputs": [
    {
     "name": "stdout",
     "output_type": "stream",
     "text": [
      "enter hours:37\n",
      "enter rate:12\n",
      "the firm pay the employee is 444\n"
     ]
    }
   ],
   "source": [
    "#Suppose that a Firm pays its employee at the rate of $12 per hour. An employee has worked for 37hours.\n",
    "# How much should the firm pay the employee? (Do normal way directly takes the input)\n",
    "hours=eval(input('enter hours:'))\n",
    "rate=eval(input('enter rate:'))\n",
    "if hours<=40:\n",
    "    print('the firm pay the employee is', hours*rate)\n",
    "else:\n",
    "    print('pay')"
   ]
  },
  {
   "cell_type": "code",
   "execution_count": null,
   "id": "8c1f80d1",
   "metadata": {},
   "outputs": [],
   "source": [
    "#How about prompting the user for the number of hours and using the input value to compute the total pay?\n",
    "#(Above problem use eval concept and sep concept)\n",
    "hrs=eval(input('enter hrs:'))\n"
   ]
  },
  {
   "cell_type": "code",
   "execution_count": null,
   "id": "52dcb7f9",
   "metadata": {},
   "outputs": [],
   "source": [
    "#For a certain academic subject the students are evaluated based on five tests -\n",
    "#* Quiz 1 (20 marks - 10% Weight),\n",
    "# * Quiz 2 (20 marks - 10% Weight),\n",
    "# * Class test (50 marks - 25% Weight),\n",
    "#* Assignment (100 marks - 25% weight) and\n",
    "#* Project (200 marks - 30% weight).\n",
    "#Design a program that will prompt the user for marks for each of the tests and calculate the overall marks (out of 100).\n"
   ]
  },
  {
   "cell_type": "code",
   "execution_count": null,
   "id": "8869e234",
   "metadata": {},
   "outputs": [],
   "source": [
    "#If a five-digit number is input through the keyboard, write a program to calculate the sum of its digits.\n"
   ]
  },
  {
   "cell_type": "code",
   "execution_count": null,
   "id": "2956f47d",
   "metadata": {},
   "outputs": [],
   "source": [
    "#If a five-digit number is input through the keyboard, write a program to print a new number by adding one to each of its digits.\n",
    "#For example if the number that is input is 12371 then the output should be displayed as 23482."
   ]
  },
  {
   "cell_type": "code",
   "execution_count": null,
   "id": "19e535a0",
   "metadata": {},
   "outputs": [],
   "source": [
    "#**Recall the problem:**\n",
    "\n",
    "#For a certain academic subject the students are evaluated based on five tests - \n",
    "#* Quiz 1 (20 marks - 10% Weight),\n",
    "#* Quiz 2 (20 marks - 10% Weight),\n",
    "#* Class test (50 marks - 25% Weight), \n",
    "#* Assignment (100 marks - 25% weight) and\n",
    "#* Project (200 marks - 30% weight).\n",
    "\n",
    "#Design a program that will prompt the user for marks for each of the tests and calculate the overall marks (out of 100).\n",
    "\n",
    "#### Add an extension to the problem to display grades:Display the grades of students using the following table:\n",
    "\n",
    "#Score Grade\n",
    "#  >= 60 First Class\n",
    "#  >= 40 Second Class\n",
    "#  < 40 Fail\n"
   ]
  },
  {
   "cell_type": "code",
   "execution_count": null,
   "id": "08ddd5d7",
   "metadata": {},
   "outputs": [],
   "source": [
    "#** Recall the problem:**\n",
    "\n",
    "# How about prompting the user for the number of hours and using the input value to compute the total pay?"
   ]
  },
  {
   "cell_type": "code",
   "execution_count": null,
   "id": "4eaa5e4e",
   "metadata": {},
   "outputs": [],
   "source": [
    "# ** try & except **\n",
    "\n",
    "Rewrite the pay program (refer problem 2) using try and expect so that the program handles non-\n",
    "numeric input gracefully by printing a message and exiting the program. The following shows two\n",
    "\n",
    "executions of the program:\n",
    "\n",
    "Enter hours: 20\n",
    "Enter rate: nine\n",
    "Error, please enter numeric input"
   ]
  },
  {
   "cell_type": "code",
   "execution_count": 15,
   "id": "d22c5ab4",
   "metadata": {},
   "outputs": [
    {
     "data": {
      "text/plain": [
       "1"
      ]
     },
     "execution_count": 15,
     "metadata": {},
     "output_type": "execute_result"
    }
   ],
   "source": [
    "1234//1000\n",
    "\n"
   ]
  },
  {
   "cell_type": "code",
   "execution_count": null,
   "id": "4c4504a7",
   "metadata": {},
   "outputs": [],
   "source": []
  },
  {
   "cell_type": "code",
   "execution_count": null,
   "id": "70c6cf39",
   "metadata": {},
   "outputs": [],
   "source": []
  }
 ],
 "metadata": {
  "kernelspec": {
   "display_name": "Python 3 (ipykernel)",
   "language": "python",
   "name": "python3"
  },
  "language_info": {
   "codemirror_mode": {
    "name": "ipython",
    "version": 3
   },
   "file_extension": ".py",
   "mimetype": "text/x-python",
   "name": "python",
   "nbconvert_exporter": "python",
   "pygments_lexer": "ipython3",
   "version": "3.11.5"
  }
 },
 "nbformat": 4,
 "nbformat_minor": 5
}
