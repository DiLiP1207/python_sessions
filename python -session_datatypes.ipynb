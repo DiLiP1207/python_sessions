{
 "cells": [
  {
   "cell_type": "code",
   "execution_count": null,
   "id": "733f5e4d",
   "metadata": {},
   "outputs": [],
   "source": [
    "## Data types\n",
    "\n",
    "- Integer                       int\n",
    "- Float                         float\n",
    "- strings                       str\n",
    "- boolean                       bool\n",
    "- complex conjugate             complex"
   ]
  },
  {
   "cell_type": "markdown",
   "id": "978c2da1",
   "metadata": {},
   "source": [
    "$Integer$"
   ]
  },
  {
   "cell_type": "code",
   "execution_count": 1,
   "id": "eb0655d2",
   "metadata": {},
   "outputs": [
    {
     "data": {
      "text/plain": [
       "100"
      ]
     },
     "execution_count": 1,
     "metadata": {},
     "output_type": "execute_result"
    }
   ],
   "source": [
    "number=100\n",
    "number"
   ]
  },
  {
   "cell_type": "code",
   "execution_count": 2,
   "id": "1092f108",
   "metadata": {},
   "outputs": [
    {
     "data": {
      "text/plain": [
       "int"
      ]
     },
     "execution_count": 2,
     "metadata": {},
     "output_type": "execute_result"
    }
   ],
   "source": [
    "# type of the variable : type\n",
    "type(number)"
   ]
  },
  {
   "cell_type": "markdown",
   "id": "9f402cb8",
   "metadata": {},
   "source": [
    "# in maths we have different number system\n",
    "\n",
    "- decimal\n",
    "\n",
    "- Binary\n",
    "\n",
    "- octal\n",
    "\n",
    "- hexa"
   ]
  },
  {
   "cell_type": "markdown",
   "id": "890cd951",
   "metadata": {},
   "source": [
    "# Binary\n",
    "\n",
    "- Bi means 2\n",
    "\n",
    "- so the base is also 2\n",
    "\n",
    "-  0 1 2 3 4 5 6 7 8 9\n",
    "\n",
    "- here will use only two digits : 0 and 1\n",
    "    \n",
    "- representation is : 0b<combinations of 0 and 1>\n",
    "    \n",
    "- 0b110 , 0B011101"
   ]
  },
  {
   "cell_type": "code",
   "execution_count": 3,
   "id": "ee5a9496",
   "metadata": {},
   "outputs": [
    {
     "data": {
      "text/plain": [
       "7"
      ]
     },
     "execution_count": 3,
     "metadata": {},
     "output_type": "execute_result"
    }
   ],
   "source": [
    "0b111\n",
    "# python output will come as decimal format only"
   ]
  },
  {
   "cell_type": "code",
   "execution_count": null,
   "id": "c757a873",
   "metadata": {},
   "outputs": [],
   "source": [
    "# 3 digits language means = 4 2 1\n",
    "# 4 digits language means = 8 4 2 1\n",
    "# 5 digits language means = 16 8 4 2 1\n",
    "\n",
    "                                       "
   ]
  },
  {
   "cell_type": "markdown",
   "id": "1f03ca5a",
   "metadata": {},
   "source": [
    "# Octal"
   ]
  },
  {
   "cell_type": "markdown",
   "id": "c9480d60",
   "metadata": {},
   "source": [
    "- octa means 8\n",
    "\n",
    "- so the base is also 8\n",
    "\n",
    "- 0 1 2 3 4 5 6 7 8 9\n",
    "\n",
    "- here will use only eight digits : 0,1,2,3,4,5,6,7(0 to 7 means 8 digits)\n",
    "    \n",
    "- representation is : 0o<combinations of 0 to 7>\n",
    "    \n",
    "- 0o123 , 0o7564"
   ]
  },
  {
   "cell_type": "code",
   "execution_count": 4,
   "id": "baff58a4",
   "metadata": {},
   "outputs": [
    {
     "data": {
      "text/plain": [
       "83"
      ]
     },
     "execution_count": 4,
     "metadata": {},
     "output_type": "execute_result"
    }
   ],
   "source": [
    "0o123"
   ]
  },
  {
   "cell_type": "code",
   "execution_count": 5,
   "id": "7366a6d6",
   "metadata": {},
   "outputs": [
    {
     "data": {
      "text/plain": [
       "3956"
      ]
     },
     "execution_count": 5,
     "metadata": {},
     "output_type": "execute_result"
    }
   ],
   "source": [
    "0o7564"
   ]
  },
  {
   "cell_type": "markdown",
   "id": "ae8697df",
   "metadata": {},
   "source": [
    "# Hexa"
   ]
  },
  {
   "cell_type": "markdown",
   "id": "69c84088",
   "metadata": {},
   "source": [
    "- hexa means 16\n",
    "\n",
    "- so the base is also 16\n",
    "\n",
    "- 0,1,2,3,4,5,6,7,8,9,A,B,C,D,E,F\n",
    "\n",
    "- here will use only 16 digits : (0 to 9 and A to F)\n",
    "    \n",
    "- representation is : 0x<0 to 9 and A to F>\n",
    "    \n",
    "- 0xabc , 0X9DF    "
   ]
  },
  {
   "cell_type": "code",
   "execution_count": 6,
   "id": "3e13454f",
   "metadata": {},
   "outputs": [
    {
     "data": {
      "text/plain": [
       "2748"
      ]
     },
     "execution_count": 6,
     "metadata": {},
     "output_type": "execute_result"
    }
   ],
   "source": [
    "0xabc"
   ]
  },
  {
   "cell_type": "code",
   "execution_count": 7,
   "id": "29c22c0c",
   "metadata": {},
   "outputs": [
    {
     "data": {
      "text/plain": [
       "2527"
      ]
     },
     "execution_count": 7,
     "metadata": {},
     "output_type": "execute_result"
    }
   ],
   "source": [
    "0X9DF"
   ]
  },
  {
   "cell_type": "markdown",
   "id": "16663642",
   "metadata": {},
   "source": [
    "$ FLOAT $"
   ]
  },
  {
   "cell_type": "code",
   "execution_count": null,
   "id": "8ee7e4c1",
   "metadata": {},
   "outputs": [],
   "source": [
    "- It is represented as e \n",
    "\n",
    "- "
   ]
  }
 ],
 "metadata": {
  "kernelspec": {
   "display_name": "Python 3 (ipykernel)",
   "language": "python",
   "name": "python3"
  },
  "language_info": {
   "codemirror_mode": {
    "name": "ipython",
    "version": 3
   },
   "file_extension": ".py",
   "mimetype": "text/x-python",
   "name": "python",
   "nbconvert_exporter": "python",
   "pygments_lexer": "ipython3",
   "version": "3.11.5"
  }
 },
 "nbformat": 4,
 "nbformat_minor": 5
}
